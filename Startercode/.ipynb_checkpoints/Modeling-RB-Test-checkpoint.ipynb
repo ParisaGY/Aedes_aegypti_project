{
 "cells": [
  {
   "cell_type": "markdown",
   "metadata": {},
   "source": [
    "### And now to build some models"
   ]
  },
  {
   "cell_type": "code",
   "execution_count": 1,
   "metadata": {
    "collapsed": true
   },
   "outputs": [],
   "source": [
    "#import everything\n",
    "import pandas as pd\n",
    "import numpy as np\n",
    "import matplotlib.pyplot as plt\n",
    "import seaborn as sns\n",
    "%matplotlib inline"
   ]
  },
  {
   "cell_type": "code",
   "execution_count": 20,
   "metadata": {
    "collapsed": true
   },
   "outputs": [],
   "source": [
    "#pull in our formatted train data\n",
    "df = pd.read_csv('out_train_v2.csv')"
   ]
  },
  {
   "cell_type": "code",
   "execution_count": 21,
   "metadata": {
    "collapsed": true
   },
   "outputs": [],
   "source": [
    "#and our formatted test data\n",
    "df1 = pd.read_csv('out_test_v2.csv')"
   ]
  },
  {
   "cell_type": "code",
   "execution_count": 22,
   "metadata": {
    "collapsed": true
   },
   "outputs": [],
   "source": [
    "df1.ix[df1.Species.str.contains(\"UNSPECIFIED CULEX\"), 'Species'] = \"CULEX PIPIENS/RESTUANS\"\n"
   ]
  },
  {
   "cell_type": "code",
   "execution_count": 23,
   "metadata": {
    "collapsed": true
   },
   "outputs": [],
   "source": [
    "#let's first establish our y variable\n",
    "X = df.drop(\"WnvPresent\", axis=1)\n",
    "y = df.WnvPresent"
   ]
  },
  {
   "cell_type": "code",
   "execution_count": 24,
   "metadata": {
    "collapsed": false
   },
   "outputs": [],
   "source": [
    "#creating a variable to determine what the variance in temperature was on any given day\n",
    "X[\"TVar\"] = X[\"Tmax\"] - X[\"Tmin\"]"
   ]
  },
  {
   "cell_type": "code",
   "execution_count": 25,
   "metadata": {
    "collapsed": false
   },
   "outputs": [],
   "source": [
    "#and the same for our test data\n",
    "df1[\"TVar\"] = df1['Tmax'] - df1['Tmin']"
   ]
  },
  {
   "cell_type": "code",
   "execution_count": 26,
   "metadata": {
    "collapsed": false
   },
   "outputs": [],
   "source": [
    "#converting species and trap to categorical data\n",
    "X.Species = X.Species.astype('category')\n",
    "\n",
    "# X.Species = X.Species.cat.codes"
   ]
  },
  {
   "cell_type": "code",
   "execution_count": 27,
   "metadata": {
    "collapsed": false
   },
   "outputs": [],
   "source": [
    "df1.Species = df1.Species.astype('category')\n",
    "# df1.Species = df1.Species.cat.codes"
   ]
  },
  {
   "cell_type": "code",
   "execution_count": 28,
   "metadata": {
    "collapsed": true
   },
   "outputs": [],
   "source": [
    "test = df1"
   ]
  },
  {
   "cell_type": "code",
   "execution_count": 29,
   "metadata": {
    "collapsed": false
   },
   "outputs": [],
   "source": [
    "X = pd.concat([X, pd.get_dummies(X.Species, drop_first=True)], axis=1)\n"
   ]
  },
  {
   "cell_type": "code",
   "execution_count": 30,
   "metadata": {
    "collapsed": false
   },
   "outputs": [],
   "source": [
    "test = pd.concat([test, pd.get_dummies(test.Species, drop_first=True)], axis=1)"
   ]
  },
  {
   "cell_type": "code",
   "execution_count": 31,
   "metadata": {
    "collapsed": false
   },
   "outputs": [],
   "source": [
    "#drop the variables we're not going to use\n",
    "X.head()\n",
    "X = X.drop(['Unnamed: 0', 'Date', 'Address', 'Block', 'Street', 'AddressNumberAndStreet', 'AddressAccuracy', 'Tavg', 'Tmin', 'NumMosquitos', 'DewPoint', 'Trap', 'Species'], axis=1)"
   ]
  },
  {
   "cell_type": "code",
   "execution_count": 32,
   "metadata": {
    "collapsed": false
   },
   "outputs": [],
   "source": [
    "#same with test\n",
    "test = test.drop(['Unnamed: 0','Id', 'Date', 'Address', 'Block', 'Street', 'AddressNumberAndStreet', 'AddressAccuracy', 'Tavg', 'Tmin', 'DewPoint', 'Trap', 'Species'], axis=1)"
   ]
  },
  {
   "cell_type": "code",
   "execution_count": 33,
   "metadata": {
    "collapsed": false
   },
   "outputs": [
    {
     "data": {
      "text/html": [
       "<div>\n",
       "<table border=\"1\" class=\"dataframe\">\n",
       "  <thead>\n",
       "    <tr style=\"text-align: right;\">\n",
       "      <th></th>\n",
       "      <th>Latitude</th>\n",
       "      <th>Longitude</th>\n",
       "      <th>Tmax</th>\n",
       "      <th>PrecipTotal</th>\n",
       "      <th>AvgSpeed</th>\n",
       "      <th>length_of_day</th>\n",
       "      <th>TVar</th>\n",
       "      <th>CULEX PIPIENS</th>\n",
       "      <th>CULEX PIPIENS/RESTUANS</th>\n",
       "      <th>CULEX RESTUANS</th>\n",
       "      <th>CULEX SALINARIUS</th>\n",
       "      <th>CULEX TARSALIS</th>\n",
       "      <th>CULEX TERRITANS</th>\n",
       "    </tr>\n",
       "  </thead>\n",
       "  <tbody>\n",
       "    <tr>\n",
       "      <th>0</th>\n",
       "      <td>41.954690</td>\n",
       "      <td>-87.800991</td>\n",
       "      <td>88</td>\n",
       "      <td>0.0</td>\n",
       "      <td>6.5</td>\n",
       "      <td>896.0</td>\n",
       "      <td>28</td>\n",
       "      <td>0.0</td>\n",
       "      <td>1.0</td>\n",
       "      <td>0.0</td>\n",
       "      <td>0.0</td>\n",
       "      <td>0.0</td>\n",
       "      <td>0.0</td>\n",
       "    </tr>\n",
       "    <tr>\n",
       "      <th>1</th>\n",
       "      <td>41.954690</td>\n",
       "      <td>-87.800991</td>\n",
       "      <td>88</td>\n",
       "      <td>0.0</td>\n",
       "      <td>6.5</td>\n",
       "      <td>896.0</td>\n",
       "      <td>28</td>\n",
       "      <td>0.0</td>\n",
       "      <td>0.0</td>\n",
       "      <td>1.0</td>\n",
       "      <td>0.0</td>\n",
       "      <td>0.0</td>\n",
       "      <td>0.0</td>\n",
       "    </tr>\n",
       "    <tr>\n",
       "      <th>2</th>\n",
       "      <td>41.994991</td>\n",
       "      <td>-87.769279</td>\n",
       "      <td>88</td>\n",
       "      <td>0.0</td>\n",
       "      <td>6.5</td>\n",
       "      <td>896.0</td>\n",
       "      <td>28</td>\n",
       "      <td>0.0</td>\n",
       "      <td>0.0</td>\n",
       "      <td>1.0</td>\n",
       "      <td>0.0</td>\n",
       "      <td>0.0</td>\n",
       "      <td>0.0</td>\n",
       "    </tr>\n",
       "    <tr>\n",
       "      <th>3</th>\n",
       "      <td>41.974089</td>\n",
       "      <td>-87.824812</td>\n",
       "      <td>88</td>\n",
       "      <td>0.0</td>\n",
       "      <td>6.5</td>\n",
       "      <td>896.0</td>\n",
       "      <td>28</td>\n",
       "      <td>0.0</td>\n",
       "      <td>1.0</td>\n",
       "      <td>0.0</td>\n",
       "      <td>0.0</td>\n",
       "      <td>0.0</td>\n",
       "      <td>0.0</td>\n",
       "    </tr>\n",
       "    <tr>\n",
       "      <th>4</th>\n",
       "      <td>41.974089</td>\n",
       "      <td>-87.824812</td>\n",
       "      <td>88</td>\n",
       "      <td>0.0</td>\n",
       "      <td>6.5</td>\n",
       "      <td>896.0</td>\n",
       "      <td>28</td>\n",
       "      <td>0.0</td>\n",
       "      <td>0.0</td>\n",
       "      <td>1.0</td>\n",
       "      <td>0.0</td>\n",
       "      <td>0.0</td>\n",
       "      <td>0.0</td>\n",
       "    </tr>\n",
       "  </tbody>\n",
       "</table>\n",
       "</div>"
      ],
      "text/plain": [
       "    Latitude  Longitude  Tmax  PrecipTotal  AvgSpeed  length_of_day  TVar  \\\n",
       "0  41.954690 -87.800991    88          0.0       6.5          896.0    28   \n",
       "1  41.954690 -87.800991    88          0.0       6.5          896.0    28   \n",
       "2  41.994991 -87.769279    88          0.0       6.5          896.0    28   \n",
       "3  41.974089 -87.824812    88          0.0       6.5          896.0    28   \n",
       "4  41.974089 -87.824812    88          0.0       6.5          896.0    28   \n",
       "\n",
       "   CULEX PIPIENS  CULEX PIPIENS/RESTUANS  CULEX RESTUANS  CULEX SALINARIUS  \\\n",
       "0            0.0                     1.0             0.0               0.0   \n",
       "1            0.0                     0.0             1.0               0.0   \n",
       "2            0.0                     0.0             1.0               0.0   \n",
       "3            0.0                     1.0             0.0               0.0   \n",
       "4            0.0                     0.0             1.0               0.0   \n",
       "\n",
       "   CULEX TARSALIS  CULEX TERRITANS  \n",
       "0             0.0              0.0  \n",
       "1             0.0              0.0  \n",
       "2             0.0              0.0  \n",
       "3             0.0              0.0  \n",
       "4             0.0              0.0  "
      ]
     },
     "execution_count": 33,
     "metadata": {},
     "output_type": "execute_result"
    }
   ],
   "source": [
    "#let's check the dataframe to make sure they're both the same\n",
    "X.head()"
   ]
  },
  {
   "cell_type": "code",
   "execution_count": 34,
   "metadata": {
    "collapsed": false
   },
   "outputs": [
    {
     "data": {
      "text/html": [
       "<div>\n",
       "<table border=\"1\" class=\"dataframe\">\n",
       "  <thead>\n",
       "    <tr style=\"text-align: right;\">\n",
       "      <th></th>\n",
       "      <th>Latitude</th>\n",
       "      <th>Longitude</th>\n",
       "      <th>Tmax</th>\n",
       "      <th>PrecipTotal</th>\n",
       "      <th>AvgSpeed</th>\n",
       "      <th>length_of_day</th>\n",
       "      <th>TVar</th>\n",
       "      <th>CULEX PIPIENS</th>\n",
       "      <th>CULEX PIPIENS/RESTUANS</th>\n",
       "      <th>CULEX RESTUANS</th>\n",
       "      <th>CULEX SALINARIUS</th>\n",
       "      <th>CULEX TARSALIS</th>\n",
       "      <th>CULEX TERRITANS</th>\n",
       "    </tr>\n",
       "  </thead>\n",
       "  <tbody>\n",
       "    <tr>\n",
       "      <th>0</th>\n",
       "      <td>41.95469</td>\n",
       "      <td>-87.800991</td>\n",
       "      <td>86</td>\n",
       "      <td>0.0</td>\n",
       "      <td>10.0</td>\n",
       "      <td>910.0</td>\n",
       "      <td>25</td>\n",
       "      <td>0.0</td>\n",
       "      <td>1.0</td>\n",
       "      <td>0.0</td>\n",
       "      <td>0.0</td>\n",
       "      <td>0.0</td>\n",
       "      <td>0.0</td>\n",
       "    </tr>\n",
       "    <tr>\n",
       "      <th>1</th>\n",
       "      <td>41.95469</td>\n",
       "      <td>-87.800991</td>\n",
       "      <td>86</td>\n",
       "      <td>0.0</td>\n",
       "      <td>10.0</td>\n",
       "      <td>910.0</td>\n",
       "      <td>25</td>\n",
       "      <td>0.0</td>\n",
       "      <td>0.0</td>\n",
       "      <td>1.0</td>\n",
       "      <td>0.0</td>\n",
       "      <td>0.0</td>\n",
       "      <td>0.0</td>\n",
       "    </tr>\n",
       "    <tr>\n",
       "      <th>2</th>\n",
       "      <td>41.95469</td>\n",
       "      <td>-87.800991</td>\n",
       "      <td>86</td>\n",
       "      <td>0.0</td>\n",
       "      <td>10.0</td>\n",
       "      <td>910.0</td>\n",
       "      <td>25</td>\n",
       "      <td>1.0</td>\n",
       "      <td>0.0</td>\n",
       "      <td>0.0</td>\n",
       "      <td>0.0</td>\n",
       "      <td>0.0</td>\n",
       "      <td>0.0</td>\n",
       "    </tr>\n",
       "    <tr>\n",
       "      <th>3</th>\n",
       "      <td>41.95469</td>\n",
       "      <td>-87.800991</td>\n",
       "      <td>86</td>\n",
       "      <td>0.0</td>\n",
       "      <td>10.0</td>\n",
       "      <td>910.0</td>\n",
       "      <td>25</td>\n",
       "      <td>0.0</td>\n",
       "      <td>0.0</td>\n",
       "      <td>0.0</td>\n",
       "      <td>1.0</td>\n",
       "      <td>0.0</td>\n",
       "      <td>0.0</td>\n",
       "    </tr>\n",
       "    <tr>\n",
       "      <th>4</th>\n",
       "      <td>41.95469</td>\n",
       "      <td>-87.800991</td>\n",
       "      <td>86</td>\n",
       "      <td>0.0</td>\n",
       "      <td>10.0</td>\n",
       "      <td>910.0</td>\n",
       "      <td>25</td>\n",
       "      <td>0.0</td>\n",
       "      <td>0.0</td>\n",
       "      <td>0.0</td>\n",
       "      <td>0.0</td>\n",
       "      <td>0.0</td>\n",
       "      <td>1.0</td>\n",
       "    </tr>\n",
       "  </tbody>\n",
       "</table>\n",
       "</div>"
      ],
      "text/plain": [
       "   Latitude  Longitude  Tmax  PrecipTotal  AvgSpeed  length_of_day  TVar  \\\n",
       "0  41.95469 -87.800991    86          0.0      10.0          910.0    25   \n",
       "1  41.95469 -87.800991    86          0.0      10.0          910.0    25   \n",
       "2  41.95469 -87.800991    86          0.0      10.0          910.0    25   \n",
       "3  41.95469 -87.800991    86          0.0      10.0          910.0    25   \n",
       "4  41.95469 -87.800991    86          0.0      10.0          910.0    25   \n",
       "\n",
       "   CULEX PIPIENS  CULEX PIPIENS/RESTUANS  CULEX RESTUANS  CULEX SALINARIUS  \\\n",
       "0            0.0                     1.0             0.0               0.0   \n",
       "1            0.0                     0.0             1.0               0.0   \n",
       "2            1.0                     0.0             0.0               0.0   \n",
       "3            0.0                     0.0             0.0               1.0   \n",
       "4            0.0                     0.0             0.0               0.0   \n",
       "\n",
       "   CULEX TARSALIS  CULEX TERRITANS  \n",
       "0             0.0              0.0  \n",
       "1             0.0              0.0  \n",
       "2             0.0              0.0  \n",
       "3             0.0              0.0  \n",
       "4             0.0              1.0  "
      ]
     },
     "execution_count": 34,
     "metadata": {},
     "output_type": "execute_result"
    }
   ],
   "source": [
    "#yep, they are\n",
    "test.head()"
   ]
  },
  {
   "cell_type": "code",
   "execution_count": 35,
   "metadata": {
    "collapsed": false
   },
   "outputs": [
    {
     "data": {
      "text/plain": [
       "(10506, 13)"
      ]
     },
     "execution_count": 35,
     "metadata": {},
     "output_type": "execute_result"
    }
   ],
   "source": [
    "X.shape"
   ]
  },
  {
   "cell_type": "code",
   "execution_count": 36,
   "metadata": {
    "collapsed": false
   },
   "outputs": [
    {
     "data": {
      "text/plain": [
       "(116293, 13)"
      ]
     },
     "execution_count": 36,
     "metadata": {},
     "output_type": "execute_result"
    }
   ],
   "source": [
    "test.shape"
   ]
  },
  {
   "cell_type": "code",
   "execution_count": 37,
   "metadata": {
    "collapsed": true
   },
   "outputs": [],
   "source": [
    "#let's start importign everything\n",
    "from sklearn.preprocessing import StandardScaler\n",
    "from sklearn import metrics"
   ]
  },
  {
   "cell_type": "code",
   "execution_count": 38,
   "metadata": {
    "collapsed": false
   },
   "outputs": [],
   "source": [
    "#scaling the data to make sure all our data is on the same scale\n",
    "to_scale = X[['Tmax', 'PrecipTotal', 'AvgSpeed', 'length_of_day', 'TVar']]\n",
    "scaled = pd.DataFrame(StandardScaler().fit_transform(to_scale), columns=['Tmax_scaled', 'PrecipTotal_scaled', 'AvgSpeed_scaled', 'length_of_day_scaled', 'TVar_scaled'])\n",
    "X = pd.concat([X, scaled], axis=1)\n",
    "X = X.drop(['Tmax', 'PrecipTotal', 'AvgSpeed', 'length_of_day', 'TVar'], axis=1)\n",
    "# scaled.head()"
   ]
  },
  {
   "cell_type": "code",
   "execution_count": 39,
   "metadata": {
    "collapsed": false
   },
   "outputs": [
    {
     "data": {
      "text/plain": [
       "(10506, 13)"
      ]
     },
     "execution_count": 39,
     "metadata": {},
     "output_type": "execute_result"
    }
   ],
   "source": [
    "X.shape"
   ]
  },
  {
   "cell_type": "code",
   "execution_count": 40,
   "metadata": {
    "collapsed": true
   },
   "outputs": [],
   "source": [
    "to_scale = test[['Tmax', 'PrecipTotal', 'AvgSpeed', 'length_of_day', 'TVar']]\n",
    "scaled = pd.DataFrame(StandardScaler().fit_transform(to_scale), columns=['Tmax_scaled', 'PrecipTotal_scaled', 'AvgSpeed_scaled', 'length_of_day_scaled', 'TVar_scaled'])\n",
    "test = pd.concat([test, scaled], axis=1)\n",
    "test = test.drop(['Tmax', 'PrecipTotal', 'AvgSpeed', 'length_of_day', 'TVar'], axis=1)"
   ]
  },
  {
   "cell_type": "code",
   "execution_count": 41,
   "metadata": {
    "collapsed": false
   },
   "outputs": [
    {
     "name": "stderr",
     "output_type": "stream",
     "text": [
      "/Users/rb/anaconda/lib/python2.7/site-packages/sklearn/cross_validation.py:44: DeprecationWarning: This module was deprecated in version 0.18 in favor of the model_selection module into which all the refactored classes and functions are moved. Also note that the interface of the new CV iterators are different from that of this module. This module will be removed in 0.20.\n",
      "  \"This module will be removed in 0.20.\", DeprecationWarning)\n"
     ]
    }
   ],
   "source": [
    "#IMPORT ALL THE THINGS\n",
    "from sklearn.neighbors import KNeighborsClassifier\n",
    "from sklearn.cross_validation import train_test_split\n",
    "from sklearn.cross_validation import cross_val_score, StratifiedKFold, train_test_split\n",
    "from sklearn.ensemble import RandomForestClassifier, GradientBoostingClassifier\n",
    "from sklearn.svm import SVC\n",
    "from sklearn.linear_model import LogisticRegression\n",
    "from sklearn.metrics import accuracy_score, precision_score, recall_score, confusion_matrix, classification_report, roc_curve, auc"
   ]
  },
  {
   "cell_type": "code",
   "execution_count": 42,
   "metadata": {
    "collapsed": false
   },
   "outputs": [],
   "source": [
    "#gradient boosting\n",
    "from sklearn.ensemble import GradientBoostingClassifier\n",
    "#set our parameters for gradient boosting\n",
    "gbc = GradientBoostingClassifier(max_features='sqrt',n_estimators=1000)"
   ]
  },
  {
   "cell_type": "code",
   "execution_count": 43,
   "metadata": {
    "collapsed": true
   },
   "outputs": [],
   "source": [
    "#establish names for our confusion matrix\n",
    "names = [\"present\", \"not present\", \"predicted present\", \"predicted not present\"]"
   ]
  },
  {
   "cell_type": "code",
   "execution_count": 84,
   "metadata": {
    "collapsed": false
   },
   "outputs": [],
   "source": [
    "from xgboost.sklearn import XGBClassifier\n",
    "xgb = XGBClassifier()\n",
    "#  learning_rate =0.1,\n",
    "#  max_depth=3,\n",
    "#  min_child_weight=1,\n",
    "#  gamma=0,\n",
    "#  subsample=0.8,\n",
    "#  colsample_bytree=0.8,\n",
    "#  objective= 'binary:logistic',\n",
    "#  nthread=4,\n",
    "#  scale_pos_weight=1,\n",
    "#  seed=27)"
   ]
  },
  {
   "cell_type": "code",
   "execution_count": null,
   "metadata": {
    "collapsed": false
   },
   "outputs": [],
   "source": [
    "from sklearn.grid_search import GridSearchCV\n",
    "# xgb = xgboost.XGBClassifier()\n",
    "from xgboost import XGBClassifier\n",
    "\n",
    "clf = XGBClassifier()\n",
    "\n",
    "parameters = {'min_child_weight':[6,8],\n",
    "'max_depth':[2,3,4],\n",
    "'min_child_weight':range(1,10,1),\n",
    "'subsample':[i/10.0 for i in range(6,10)],\n",
    "'colsample_bytree':[i/10.0 for i in range(6,10)],\n",
    "'learning_rate': [0.01, 0.02, 0.03, 0.05,0.1],\n",
    "'n_estimators': range(100,200,30)}\n",
    "grid = GridSearchCV(clf, parameters, n_jobs=1, scoring='roc_auc', cv=3)\n",
    "\n",
    "grid_coef = grid.fit(X, y)\n",
    "print(grid)\n",
    "grid.best_score_ \n",
    "grid.best_params_"
   ]
  },
  {
   "cell_type": "code",
   "execution_count": 35,
   "metadata": {
    "collapsed": false,
    "scrolled": true
   },
   "outputs": [
    {
     "name": "stdout",
     "output_type": "stream",
     "text": [
      "0.943178540525\n",
      "   class_0_pp  class_1_pp  pred_class_thresh10\n",
      "0    0.649800    0.350200                    1\n",
      "1    0.871632    0.128368                    1\n",
      "2    0.999960    0.000040                    0\n",
      "3    0.998588    0.001412                    0\n",
      "4    0.982344    0.017656                    0\n",
      "5    0.999681    0.000319                    0\n",
      "6    0.998648    0.001352                    0\n",
      "7    0.999817    0.000183                    0\n",
      "8    0.999991    0.000009                    0\n",
      "9    0.999792    0.000208                    0\n",
      "             predicted present  predicted not present\n",
      "present                    128                     54\n",
      "not present                676                   2609\n",
      "             precision    recall  f1-score   support\n",
      "\n",
      "          0       0.98      0.79      0.88      3285\n",
      "          1       0.16      0.70      0.26       182\n",
      "\n",
      "avg / total       0.94      0.79      0.84      3467\n",
      "\n",
      "(3467, 3)\n",
      "        Latitude  Longitude  CULEX PIPIENS  CULEX PIPIENS/RESTUANS  \\\n",
      "10156  41.912563 -87.668055            1.0                     0.0   \n",
      "2615   41.843811 -87.686763            1.0                     0.0   \n",
      "3900   41.662014 -87.724608            1.0                     0.0   \n",
      "3324   41.759346 -87.745602            0.0                     1.0   \n",
      "1466   41.686398 -87.531635            1.0                     0.0   \n",
      "\n",
      "       CULEX RESTUANS  CULEX SALINARIUS  CULEX TARSALIS  CULEX TERRITANS  \\\n",
      "10156             0.0               0.0             0.0              0.0   \n",
      "2615              0.0               0.0             0.0              0.0   \n",
      "3900              0.0               0.0             0.0              0.0   \n",
      "3324              0.0               0.0             0.0              0.0   \n",
      "1466              0.0               0.0             0.0              0.0   \n",
      "\n",
      "       Tmax_scaled  PrecipTotal_scaled  AvgSpeed_scaled  length_of_day_scaled  \\\n",
      "10156     0.501572           -0.382231        -0.561086             -1.008376   \n",
      "2615     -0.223242            0.125715        -0.131028             -0.467691   \n",
      "3900     -2.639288           -0.128258         0.220838              0.963536   \n",
      "3324      0.259968           -0.382231         0.885473             -1.612672   \n",
      "1466      0.984782           -0.382231        -0.678374              0.343338   \n",
      "\n",
      "       TVar_scaled  \n",
      "10156     1.736123  \n",
      "2615     -1.430676  \n",
      "3900     -1.254743  \n",
      "3324     -0.023210  \n",
      "1466      0.328657  \n"
     ]
    },
    {
     "data": {
      "image/png": "[encoded data removed]",
      "text/plain": [
       "<matplotlib.figure.Figure at 0x11c6bb490>"
      ]
     },
     "metadata": {},
     "output_type": "display_data"
    },
    {
     "data": {
      "text/plain": [
       "('cross val mean score is', 0.9431735397686889)"
      ]
     },
     "execution_count": 35,
     "metadata": {},
     "output_type": "execute_result"
    }
   ],
   "source": [
    "#pull up this monster of a function again to take a look at our train data and generate the model we think is best\n",
    "def evaluate_model(model, X, y, names, test):\n",
    "    X_train, X_test, Y_train, Y_test = train_test_split(X, y, stratify=y, test_size=0.33, random_state=7)\n",
    "    model = model.fit(X_train, Y_train)\n",
    "    Y_pred = model.predict(X_test)\n",
    "    print model.score(X_test, Y_test)\n",
    "    Y_pp = pd.DataFrame(model.predict_proba(X_test), columns=['class_0_pp','class_1_pp'])\n",
    "    Y_pp['pred_class_thresh10'] = [1 if x >= 0.05 else 0 for x in Y_pp.class_1_pp.values]\n",
    "    X_test_df = pd.DataFrame(X_test)\n",
    "    conmat = np.array(confusion_matrix(Y_test, Y_pp.pred_class_thresh10, labels=[1,0]))\n",
    "    confusion = pd.DataFrame(conmat, index=[names[0:2]],\n",
    "                         columns=[names[2:]]) \n",
    "    print(Y_pp.iloc[0:10])\n",
    "    print confusion\n",
    "    print(classification_report(Y_test, Y_pp.pred_class_thresh10))\n",
    "    print Y_pp.shape\n",
    "    print X_test_df.head()\n",
    "    \n",
    "    Y_score = model.decision_function(X_test)\n",
    "\n",
    "    FPR = dict()\n",
    "    TPR = dict()\n",
    "    ROC_AUC = dict()\n",
    "\n",
    "# For class 1, find the area under the curve\n",
    "    FPR[1], TPR[1], _ = roc_curve(Y_test, Y_score)\n",
    "    ROC_AUC[1] = auc(FPR[1], TPR[1])\n",
    "\n",
    "# Plot of a ROC curve for class 1 (has_cancer)\n",
    "    plt.figure(figsize=[11,9])\n",
    "    plt.plot(FPR[1], TPR[1], label='ROC curve (area = %0.2f)' % ROC_AUC[1], linewidth=4)\n",
    "    plt.plot([0, 1], [0, 1], 'k--', linewidth=4)\n",
    "    plt.xlim([0.0, 1.0])\n",
    "    plt.ylim([0.0, 1.05])\n",
    "    plt.xlabel('False Positive Rate', fontsize=18)\n",
    "    plt.ylabel('True Positive Rate', fontsize=18)\n",
    "    plt.title('Receiver operating characteristic for WNV detection', fontsize=18)\n",
    "    plt.legend(loc=\"lower right\")\n",
    "    plt.show()\n",
    "    return \"cross val mean score is\", cross_val_score(model, X_train, Y_train, cv=5).mean()\n",
    "    \n",
    "    \n",
    "\n",
    "\n",
    "evaluate_model(gbc, X, y, names, test)"
   ]
  },
  {
   "cell_type": "code",
   "execution_count": 69,
   "metadata": {
    "collapsed": false
   },
   "outputs": [
    {
     "name": "stdout",
     "output_type": "stream",
     "text": [
      "0.947505047592\n",
      "   class_0_pp  class_1_pp  pred_class_thresh10\n",
      "0    0.804281    0.195719                    1\n",
      "1    0.855392    0.144608                    1\n",
      "2    0.998549    0.001451                    0\n",
      "3    0.957577    0.042423                    0\n",
      "4    0.959823    0.040177                    0\n",
      "5    0.982226    0.017774                    0\n",
      "6    0.990213    0.009787                    0\n",
      "7    0.998300    0.001700                    0\n",
      "8    0.998734    0.001266                    0\n",
      "9    0.998821    0.001179                    0\n",
      "             predicted present  predicted not present\n",
      "present                    150                     32\n",
      "not present                935                   2350\n",
      "             precision    recall  f1-score   support\n",
      "\n",
      "          0       0.99      0.72      0.83      3285\n",
      "          1       0.14      0.82      0.24       182\n",
      "\n",
      "avg / total       0.94      0.72      0.80      3467\n",
      "\n",
      "(3467, 3)\n",
      "        Latitude  Longitude  CULEX PIPIENS  CULEX PIPIENS/RESTUANS  \\\n",
      "10156  41.912563 -87.668055            1.0                     0.0   \n",
      "2615   41.843811 -87.686763            1.0                     0.0   \n",
      "3900   41.662014 -87.724608            1.0                     0.0   \n",
      "3324   41.759346 -87.745602            0.0                     1.0   \n",
      "1466   41.686398 -87.531635            1.0                     0.0   \n",
      "\n",
      "       CULEX RESTUANS  CULEX SALINARIUS  CULEX TARSALIS  CULEX TERRITANS  \\\n",
      "10156             0.0               0.0             0.0              0.0   \n",
      "2615              0.0               0.0             0.0              0.0   \n",
      "3900              0.0               0.0             0.0              0.0   \n",
      "3324              0.0               0.0             0.0              0.0   \n",
      "1466              0.0               0.0             0.0              0.0   \n",
      "\n",
      "       Tmax_scaled  PrecipTotal_scaled  AvgSpeed_scaled  length_of_day_scaled  \\\n",
      "10156     0.501572           -0.382231        -0.561086             -1.008376   \n",
      "2615     -0.223242            0.125715        -0.131028             -0.467691   \n",
      "3900     -2.639288           -0.128258         0.220838              0.963536   \n",
      "3324      0.259968           -0.382231         0.885473             -1.612672   \n",
      "1466      0.984782           -0.382231        -0.678374              0.343338   \n",
      "\n",
      "       TVar_scaled  \n",
      "10156     1.736123  \n",
      "2615     -1.430676  \n",
      "3900     -1.254743  \n",
      "3324     -0.023210  \n",
      "1466      0.328657  \n"
     ]
    },
    {
     "ename": "AttributeError",
     "evalue": "'XGBClassifier' object has no attribute 'decision_function'",
     "output_type": "error",
     "traceback": [
      "\u001b[0;31m---------------------------------------------------------------------------\u001b[0m",
      "\u001b[0;31mAttributeError\u001b[0m                            Traceback (most recent call last)",
      "\u001b[0;32m<ipython-input-69-47e9428f7d23>\u001b[0m in \u001b[0;36m<module>\u001b[0;34m()\u001b[0m\n\u001b[0;32m----> 1\u001b[0;31m \u001b[0mevaluate_model\u001b[0m\u001b[0;34m(\u001b[0m\u001b[0mxgb\u001b[0m\u001b[0;34m,\u001b[0m \u001b[0mX\u001b[0m\u001b[0;34m,\u001b[0m \u001b[0my\u001b[0m\u001b[0;34m,\u001b[0m \u001b[0mnames\u001b[0m\u001b[0;34m,\u001b[0m \u001b[0mtest\u001b[0m\u001b[0;34m)\u001b[0m\u001b[0;34m\u001b[0m\u001b[0m\n\u001b[0m",
      "\u001b[0;32m<ipython-input-35-7bb192787b87>\u001b[0m in \u001b[0;36mevaluate_model\u001b[0;34m(model, X, y, names, test)\u001b[0m\n\u001b[1;32m     17\u001b[0m     \u001b[0;32mprint\u001b[0m \u001b[0mX_test_df\u001b[0m\u001b[0;34m.\u001b[0m\u001b[0mhead\u001b[0m\u001b[0;34m(\u001b[0m\u001b[0;34m)\u001b[0m\u001b[0;34m\u001b[0m\u001b[0m\n\u001b[1;32m     18\u001b[0m \u001b[0;34m\u001b[0m\u001b[0m\n\u001b[0;32m---> 19\u001b[0;31m     \u001b[0mY_score\u001b[0m \u001b[0;34m=\u001b[0m \u001b[0mmodel\u001b[0m\u001b[0;34m.\u001b[0m\u001b[0mdecision_function\u001b[0m\u001b[0;34m(\u001b[0m\u001b[0mX_test\u001b[0m\u001b[0;34m)\u001b[0m\u001b[0;34m\u001b[0m\u001b[0m\n\u001b[0m\u001b[1;32m     20\u001b[0m \u001b[0;34m\u001b[0m\u001b[0m\n\u001b[1;32m     21\u001b[0m     \u001b[0mFPR\u001b[0m \u001b[0;34m=\u001b[0m \u001b[0mdict\u001b[0m\u001b[0;34m(\u001b[0m\u001b[0;34m)\u001b[0m\u001b[0;34m\u001b[0m\u001b[0m\n",
      "\u001b[0;31mAttributeError\u001b[0m: 'XGBClassifier' object has no attribute 'decision_function'"
     ]
    }
   ],
   "source": [
    "evaluate_model(xgb, X, y, names, test)"
   ]
  },
  {
   "cell_type": "markdown",
   "metadata": {},
   "source": [
    "### Prep model for submission!"
   ]
  },
  {
   "cell_type": "code",
   "execution_count": 70,
   "metadata": {
    "collapsed": false
   },
   "outputs": [],
   "source": [
    "#fit the model and get the predicted probabilities\n",
    "model = xgb.fit(X, y)\n",
    "y_pred = model.predict_proba(test)"
   ]
  },
  {
   "cell_type": "code",
   "execution_count": 71,
   "metadata": {
    "collapsed": true
   },
   "outputs": [],
   "source": [
    "#also get the predictions in general\n",
    "y_predicted = model.predict(test)"
   ]
  },
  {
   "cell_type": "code",
   "execution_count": 72,
   "metadata": {
    "collapsed": false
   },
   "outputs": [
    {
     "data": {
      "text/html": [
       "<div>\n",
       "<table border=\"1\" class=\"dataframe\">\n",
       "  <thead>\n",
       "    <tr style=\"text-align: right;\">\n",
       "      <th></th>\n",
       "      <th>Latitude</th>\n",
       "      <th>Longitude</th>\n",
       "      <th>CULEX PIPIENS</th>\n",
       "      <th>CULEX PIPIENS/RESTUANS</th>\n",
       "      <th>CULEX RESTUANS</th>\n",
       "      <th>CULEX SALINARIUS</th>\n",
       "      <th>CULEX TARSALIS</th>\n",
       "      <th>CULEX TERRITANS</th>\n",
       "      <th>Tmax_scaled</th>\n",
       "      <th>PrecipTotal_scaled</th>\n",
       "      <th>AvgSpeed_scaled</th>\n",
       "      <th>length_of_day_scaled</th>\n",
       "      <th>TVar_scaled</th>\n",
       "    </tr>\n",
       "  </thead>\n",
       "  <tbody>\n",
       "    <tr>\n",
       "      <th>0</th>\n",
       "      <td>41.954690</td>\n",
       "      <td>-87.800991</td>\n",
       "      <td>0.0</td>\n",
       "      <td>1.0</td>\n",
       "      <td>0.0</td>\n",
       "      <td>0.0</td>\n",
       "      <td>0.0</td>\n",
       "      <td>0.0</td>\n",
       "      <td>0.743177</td>\n",
       "      <td>-0.382231</td>\n",
       "      <td>-0.365605</td>\n",
       "      <td>0.884023</td>\n",
       "      <td>1.560189</td>\n",
       "    </tr>\n",
       "    <tr>\n",
       "      <th>1</th>\n",
       "      <td>41.954690</td>\n",
       "      <td>-87.800991</td>\n",
       "      <td>0.0</td>\n",
       "      <td>0.0</td>\n",
       "      <td>1.0</td>\n",
       "      <td>0.0</td>\n",
       "      <td>0.0</td>\n",
       "      <td>0.0</td>\n",
       "      <td>0.743177</td>\n",
       "      <td>-0.382231</td>\n",
       "      <td>-0.365605</td>\n",
       "      <td>0.884023</td>\n",
       "      <td>1.560189</td>\n",
       "    </tr>\n",
       "    <tr>\n",
       "      <th>2</th>\n",
       "      <td>41.994991</td>\n",
       "      <td>-87.769279</td>\n",
       "      <td>0.0</td>\n",
       "      <td>0.0</td>\n",
       "      <td>1.0</td>\n",
       "      <td>0.0</td>\n",
       "      <td>0.0</td>\n",
       "      <td>0.0</td>\n",
       "      <td>0.743177</td>\n",
       "      <td>-0.382231</td>\n",
       "      <td>-0.365605</td>\n",
       "      <td>0.884023</td>\n",
       "      <td>1.560189</td>\n",
       "    </tr>\n",
       "    <tr>\n",
       "      <th>3</th>\n",
       "      <td>41.974089</td>\n",
       "      <td>-87.824812</td>\n",
       "      <td>0.0</td>\n",
       "      <td>1.0</td>\n",
       "      <td>0.0</td>\n",
       "      <td>0.0</td>\n",
       "      <td>0.0</td>\n",
       "      <td>0.0</td>\n",
       "      <td>0.743177</td>\n",
       "      <td>-0.382231</td>\n",
       "      <td>-0.365605</td>\n",
       "      <td>0.884023</td>\n",
       "      <td>1.560189</td>\n",
       "    </tr>\n",
       "    <tr>\n",
       "      <th>4</th>\n",
       "      <td>41.974089</td>\n",
       "      <td>-87.824812</td>\n",
       "      <td>0.0</td>\n",
       "      <td>0.0</td>\n",
       "      <td>1.0</td>\n",
       "      <td>0.0</td>\n",
       "      <td>0.0</td>\n",
       "      <td>0.0</td>\n",
       "      <td>0.743177</td>\n",
       "      <td>-0.382231</td>\n",
       "      <td>-0.365605</td>\n",
       "      <td>0.884023</td>\n",
       "      <td>1.560189</td>\n",
       "    </tr>\n",
       "  </tbody>\n",
       "</table>\n",
       "</div>"
      ],
      "text/plain": [
       "    Latitude  Longitude  CULEX PIPIENS  CULEX PIPIENS/RESTUANS  \\\n",
       "0  41.954690 -87.800991            0.0                     1.0   \n",
       "1  41.954690 -87.800991            0.0                     0.0   \n",
       "2  41.994991 -87.769279            0.0                     0.0   \n",
       "3  41.974089 -87.824812            0.0                     1.0   \n",
       "4  41.974089 -87.824812            0.0                     0.0   \n",
       "\n",
       "   CULEX RESTUANS  CULEX SALINARIUS  CULEX TARSALIS  CULEX TERRITANS  \\\n",
       "0             0.0               0.0             0.0              0.0   \n",
       "1             1.0               0.0             0.0              0.0   \n",
       "2             1.0               0.0             0.0              0.0   \n",
       "3             0.0               0.0             0.0              0.0   \n",
       "4             1.0               0.0             0.0              0.0   \n",
       "\n",
       "   Tmax_scaled  PrecipTotal_scaled  AvgSpeed_scaled  length_of_day_scaled  \\\n",
       "0     0.743177           -0.382231        -0.365605              0.884023   \n",
       "1     0.743177           -0.382231        -0.365605              0.884023   \n",
       "2     0.743177           -0.382231        -0.365605              0.884023   \n",
       "3     0.743177           -0.382231        -0.365605              0.884023   \n",
       "4     0.743177           -0.382231        -0.365605              0.884023   \n",
       "\n",
       "   TVar_scaled  \n",
       "0     1.560189  \n",
       "1     1.560189  \n",
       "2     1.560189  \n",
       "3     1.560189  \n",
       "4     1.560189  "
      ]
     },
     "execution_count": 72,
     "metadata": {},
     "output_type": "execute_result"
    }
   ],
   "source": [
    "X.head()"
   ]
  },
  {
   "cell_type": "code",
   "execution_count": 73,
   "metadata": {
    "collapsed": false
   },
   "outputs": [
    {
     "data": {
      "text/plain": [
       "array([ 0.13071896,  0.18300654,  0.01633987,  0.01633987,  0.02941176,\n",
       "        0.00163399,  0.        ,  0.02124183,  0.11764706,  0.04738562,\n",
       "        0.14869282,  0.21895425,  0.06862745], dtype=float32)"
      ]
     },
     "execution_count": 73,
     "metadata": {},
     "output_type": "execute_result"
    }
   ],
   "source": [
    "#just a tiny peak at what the model thought were the most important features\n",
    "#looks like it's species, trap and length of day\n",
    "model.feature_importances_"
   ]
  },
  {
   "cell_type": "code",
   "execution_count": 74,
   "metadata": {
    "collapsed": false
   },
   "outputs": [],
   "source": [
    "#creating a dataframe for the y_preds\n",
    "y_preds = pd.DataFrame(data=y_pred, columns=[\"WnvNotPresent\", \"WnvPresent\"])"
   ]
  },
  {
   "cell_type": "code",
   "execution_count": 75,
   "metadata": {
    "collapsed": false
   },
   "outputs": [],
   "source": [
    "#create a new dataframe merging all our data\n",
    "df_out = pd.merge(df1, y_preds[['WnvPresent']], how = 'left', left_index=True, right_index=True )\n",
    "df_out = df_out[['Id', 'WnvPresent']]\n",
    "df_out.to_csv('xgb_nest100_maxdepth3.csv', index=False)"
   ]
  },
  {
   "cell_type": "code",
   "execution_count": null,
   "metadata": {
    "collapsed": true
   },
   "outputs": [],
   "source": [
    "#and one for plotting graphs!\n",
    "df_plot = pd.merge(df1, y_preds[['WnvPresent']], how='left', left_index = True, right_index=True)"
   ]
  },
  {
   "cell_type": "code",
   "execution_count": null,
   "metadata": {
    "collapsed": false
   },
   "outputs": [],
   "source": [
    "#the one for plot needs very specific columns\n",
    "#but we also want to set a threshold for where we think the city of Chicago should spray\n",
    "#we also wanted the date to be manipulatable \n",
    "df_plot = df_plot[['Longitude', 'Latitude', 'Trap', 'Date', 'WnvPresent']]\n",
    "df_plot[\"y_or_n\"] = [1 if x > 0.3 else 0 for x in df_plot.WnvPresent]\n",
    "df_plot['Date'] = pd.to_datetime(df_plot['Date'])\n",
    "df_plot['year'] = df_plot.Date.dt.year\n",
    "df_plot['month'] = df_plot.Date.dt.month"
   ]
  },
  {
   "cell_type": "code",
   "execution_count": null,
   "metadata": {
    "collapsed": true
   },
   "outputs": [],
   "source": [
    "#and let's save that\n",
    "df_plot.to_csv('dfplot_214.csv', index=False)"
   ]
  },
  {
   "cell_type": "code",
   "execution_count": null,
   "metadata": {
    "collapsed": true
   },
   "outputs": [],
   "source": []
  }
 ],
 "metadata": {
  "anaconda-cloud": {},
  "kernelspec": {
   "display_name": "Python [conda root]",
   "language": "python",
   "name": "conda-root-py"
  },
  "language_info": {
   "codemirror_mode": {
    "name": "ipython",
    "version": 2
   },
   "file_extension": ".py",
   "mimetype": "text/x-python",
   "name": "python",
   "nbconvert_exporter": "python",
   "pygments_lexer": "ipython2",
   "version": "2.7.13"
  }
 },
 "nbformat": 4,
 "nbformat_minor": 1
}
