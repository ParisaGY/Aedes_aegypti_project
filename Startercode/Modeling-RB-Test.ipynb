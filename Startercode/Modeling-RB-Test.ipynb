{
 "cells": [
  {
   "cell_type": "markdown",
   "metadata": {},
   "source": [
    "### And now to build some models"
   ]
  },
  {
   "cell_type": "code",
   "execution_count": 2,
   "metadata": {
    "collapsed": true
   },
   "outputs": [],
   "source": [
    "#import everything\n",
    "import pandas as pd\n",
    "import numpy as np\n",
    "import matplotlib.pyplot as plt\n",
    "import seaborn as sns\n",
    "%matplotlib inline"
   ]
  },
  {
   "cell_type": "code",
   "execution_count": 3,
   "metadata": {
    "collapsed": true
   },
   "outputs": [],
   "source": [
    "#pull in our formatted train data\n",
    "df = pd.read_csv('out_train_v2.csv')"
   ]
  },
  {
   "cell_type": "code",
   "execution_count": 4,
   "metadata": {
    "collapsed": true
   },
   "outputs": [],
   "source": [
    "#and our formatted test data\n",
    "df1 = pd.read_csv('out_test_v2.csv')"
   ]
  },
  {
   "cell_type": "code",
   "execution_count": 5,
   "metadata": {
    "collapsed": true
   },
   "outputs": [],
   "source": [
    "#classify species \"unspecified\" as culex pipiens/restuans\n",
    "df1.ix[df1.Species.str.contains(\"UNSPECIFIED CULEX\"), 'Species'] = \"CULEX PIPIENS/RESTUANS\"\n"
   ]
  },
  {
   "cell_type": "code",
   "execution_count": 6,
   "metadata": {
    "collapsed": true
   },
   "outputs": [],
   "source": [
    "#let's first establish our y variable\n",
    "X = df.drop(\"WnvPresent\", axis=1)\n",
    "y = df.WnvPresent"
   ]
  },
  {
   "cell_type": "code",
   "execution_count": 7,
   "metadata": {
    "collapsed": false
   },
   "outputs": [],
   "source": [
    "#creating a variable to determine what the variance in temperature was on any given day\n",
    "X[\"TVar\"] = X[\"Tmax\"] - X[\"Tmin\"]"
   ]
  },
  {
   "cell_type": "code",
   "execution_count": 8,
   "metadata": {
    "collapsed": false
   },
   "outputs": [],
   "source": [
    "#and the same for our test data\n",
    "df1[\"TVar\"] = df1['Tmax'] - df1['Tmin']"
   ]
  },
  {
   "cell_type": "code",
   "execution_count": 9,
   "metadata": {
    "collapsed": false
   },
   "outputs": [],
   "source": [
    "#converting species and trap to categorical data\n",
    "X.Species = X.Species.astype('category')\n",
    "\n",
    "# X.Species = X.Species.cat.codes"
   ]
  },
  {
   "cell_type": "code",
   "execution_count": 10,
   "metadata": {
    "collapsed": false
   },
   "outputs": [],
   "source": [
    "df1.Species = df1.Species.astype('category')\n",
    "# df1.Species = df1.Species.cat.codes"
   ]
  },
  {
   "cell_type": "code",
   "execution_count": 11,
   "metadata": {
    "collapsed": true
   },
   "outputs": [],
   "source": [
    "test = df1"
   ]
  },
  {
   "cell_type": "code",
   "execution_count": 12,
   "metadata": {
    "collapsed": false
   },
   "outputs": [],
   "source": [
    "#create dummies\n",
    "X = pd.concat([X, pd.get_dummies(X.Species, drop_first=True)], axis=1)\n"
   ]
  },
  {
   "cell_type": "code",
   "execution_count": 13,
   "metadata": {
    "collapsed": false
   },
   "outputs": [],
   "source": [
    "test = pd.concat([test, pd.get_dummies(test.Species, drop_first=True)], axis=1)"
   ]
  },
  {
   "cell_type": "code",
   "execution_count": 14,
   "metadata": {
    "collapsed": false
   },
   "outputs": [],
   "source": [
    "#drop the variables we're not going to use\n",
    "X.head()\n",
    "X = X.drop(['Unnamed: 0', 'Date', 'Address', 'Block', 'Street', 'AddressNumberAndStreet', 'AddressAccuracy', 'Tavg', 'Tmin', 'NumMosquitos', 'DewPoint', 'Trap', 'Species'], axis=1)"
   ]
  },
  {
   "cell_type": "code",
   "execution_count": 15,
   "metadata": {
    "collapsed": false
   },
   "outputs": [],
   "source": [
    "#same with test\n",
    "test = test.drop(['Unnamed: 0','Id', 'Date', 'Address', 'Block', 'Street', 'AddressNumberAndStreet', 'AddressAccuracy', 'Tavg', 'Tmin', 'DewPoint', 'Trap', 'Species'], axis=1)"
   ]
  },
  {
   "cell_type": "code",
   "execution_count": 16,
   "metadata": {
    "collapsed": false
   },
   "outputs": [
    {
     "data": {
      "text/html": [
       "<div>\n",
       "<table border=\"1\" class=\"dataframe\">\n",
       "  <thead>\n",
       "    <tr style=\"text-align: right;\">\n",
       "      <th></th>\n",
       "      <th>Latitude</th>\n",
       "      <th>Longitude</th>\n",
       "      <th>Tmax</th>\n",
       "      <th>PrecipTotal</th>\n",
       "      <th>AvgSpeed</th>\n",
       "      <th>length_of_day</th>\n",
       "      <th>TVar</th>\n",
       "      <th>CULEX PIPIENS</th>\n",
       "      <th>CULEX PIPIENS/RESTUANS</th>\n",
       "      <th>CULEX RESTUANS</th>\n",
       "      <th>CULEX SALINARIUS</th>\n",
       "      <th>CULEX TARSALIS</th>\n",
       "      <th>CULEX TERRITANS</th>\n",
       "    </tr>\n",
       "  </thead>\n",
       "  <tbody>\n",
       "    <tr>\n",
       "      <th>0</th>\n",
       "      <td>41.954690</td>\n",
       "      <td>-87.800991</td>\n",
       "      <td>88</td>\n",
       "      <td>0.0</td>\n",
       "      <td>6.5</td>\n",
       "      <td>896.0</td>\n",
       "      <td>28</td>\n",
       "      <td>0.0</td>\n",
       "      <td>1.0</td>\n",
       "      <td>0.0</td>\n",
       "      <td>0.0</td>\n",
       "      <td>0.0</td>\n",
       "      <td>0.0</td>\n",
       "    </tr>\n",
       "    <tr>\n",
       "      <th>1</th>\n",
       "      <td>41.954690</td>\n",
       "      <td>-87.800991</td>\n",
       "      <td>88</td>\n",
       "      <td>0.0</td>\n",
       "      <td>6.5</td>\n",
       "      <td>896.0</td>\n",
       "      <td>28</td>\n",
       "      <td>0.0</td>\n",
       "      <td>0.0</td>\n",
       "      <td>1.0</td>\n",
       "      <td>0.0</td>\n",
       "      <td>0.0</td>\n",
       "      <td>0.0</td>\n",
       "    </tr>\n",
       "    <tr>\n",
       "      <th>2</th>\n",
       "      <td>41.994991</td>\n",
       "      <td>-87.769279</td>\n",
       "      <td>88</td>\n",
       "      <td>0.0</td>\n",
       "      <td>6.5</td>\n",
       "      <td>896.0</td>\n",
       "      <td>28</td>\n",
       "      <td>0.0</td>\n",
       "      <td>0.0</td>\n",
       "      <td>1.0</td>\n",
       "      <td>0.0</td>\n",
       "      <td>0.0</td>\n",
       "      <td>0.0</td>\n",
       "    </tr>\n",
       "    <tr>\n",
       "      <th>3</th>\n",
       "      <td>41.974089</td>\n",
       "      <td>-87.824812</td>\n",
       "      <td>88</td>\n",
       "      <td>0.0</td>\n",
       "      <td>6.5</td>\n",
       "      <td>896.0</td>\n",
       "      <td>28</td>\n",
       "      <td>0.0</td>\n",
       "      <td>1.0</td>\n",
       "      <td>0.0</td>\n",
       "      <td>0.0</td>\n",
       "      <td>0.0</td>\n",
       "      <td>0.0</td>\n",
       "    </tr>\n",
       "    <tr>\n",
       "      <th>4</th>\n",
       "      <td>41.974089</td>\n",
       "      <td>-87.824812</td>\n",
       "      <td>88</td>\n",
       "      <td>0.0</td>\n",
       "      <td>6.5</td>\n",
       "      <td>896.0</td>\n",
       "      <td>28</td>\n",
       "      <td>0.0</td>\n",
       "      <td>0.0</td>\n",
       "      <td>1.0</td>\n",
       "      <td>0.0</td>\n",
       "      <td>0.0</td>\n",
       "      <td>0.0</td>\n",
       "    </tr>\n",
       "  </tbody>\n",
       "</table>\n",
       "</div>"
      ],
      "text/plain": [
       "    Latitude  Longitude  Tmax  PrecipTotal  AvgSpeed  length_of_day  TVar  \\\n",
       "0  41.954690 -87.800991    88          0.0       6.5          896.0    28   \n",
       "1  41.954690 -87.800991    88          0.0       6.5          896.0    28   \n",
       "2  41.994991 -87.769279    88          0.0       6.5          896.0    28   \n",
       "3  41.974089 -87.824812    88          0.0       6.5          896.0    28   \n",
       "4  41.974089 -87.824812    88          0.0       6.5          896.0    28   \n",
       "\n",
       "   CULEX PIPIENS  CULEX PIPIENS/RESTUANS  CULEX RESTUANS  CULEX SALINARIUS  \\\n",
       "0            0.0                     1.0             0.0               0.0   \n",
       "1            0.0                     0.0             1.0               0.0   \n",
       "2            0.0                     0.0             1.0               0.0   \n",
       "3            0.0                     1.0             0.0               0.0   \n",
       "4            0.0                     0.0             1.0               0.0   \n",
       "\n",
       "   CULEX TARSALIS  CULEX TERRITANS  \n",
       "0             0.0              0.0  \n",
       "1             0.0              0.0  \n",
       "2             0.0              0.0  \n",
       "3             0.0              0.0  \n",
       "4             0.0              0.0  "
      ]
     },
     "execution_count": 16,
     "metadata": {},
     "output_type": "execute_result"
    }
   ],
   "source": [
    "#let's check the dataframe to make sure they're both the same\n",
    "X.head()"
   ]
  },
  {
   "cell_type": "code",
   "execution_count": 17,
   "metadata": {
    "collapsed": false
   },
   "outputs": [
    {
     "data": {
      "text/html": [
       "<div>\n",
       "<table border=\"1\" class=\"dataframe\">\n",
       "  <thead>\n",
       "    <tr style=\"text-align: right;\">\n",
       "      <th></th>\n",
       "      <th>Latitude</th>\n",
       "      <th>Longitude</th>\n",
       "      <th>Tmax</th>\n",
       "      <th>PrecipTotal</th>\n",
       "      <th>AvgSpeed</th>\n",
       "      <th>length_of_day</th>\n",
       "      <th>TVar</th>\n",
       "      <th>CULEX PIPIENS</th>\n",
       "      <th>CULEX PIPIENS/RESTUANS</th>\n",
       "      <th>CULEX RESTUANS</th>\n",
       "      <th>CULEX SALINARIUS</th>\n",
       "      <th>CULEX TARSALIS</th>\n",
       "      <th>CULEX TERRITANS</th>\n",
       "    </tr>\n",
       "  </thead>\n",
       "  <tbody>\n",
       "    <tr>\n",
       "      <th>0</th>\n",
       "      <td>41.95469</td>\n",
       "      <td>-87.800991</td>\n",
       "      <td>86</td>\n",
       "      <td>0.0</td>\n",
       "      <td>10.0</td>\n",
       "      <td>910.0</td>\n",
       "      <td>25</td>\n",
       "      <td>0.0</td>\n",
       "      <td>1.0</td>\n",
       "      <td>0.0</td>\n",
       "      <td>0.0</td>\n",
       "      <td>0.0</td>\n",
       "      <td>0.0</td>\n",
       "    </tr>\n",
       "    <tr>\n",
       "      <th>1</th>\n",
       "      <td>41.95469</td>\n",
       "      <td>-87.800991</td>\n",
       "      <td>86</td>\n",
       "      <td>0.0</td>\n",
       "      <td>10.0</td>\n",
       "      <td>910.0</td>\n",
       "      <td>25</td>\n",
       "      <td>0.0</td>\n",
       "      <td>0.0</td>\n",
       "      <td>1.0</td>\n",
       "      <td>0.0</td>\n",
       "      <td>0.0</td>\n",
       "      <td>0.0</td>\n",
       "    </tr>\n",
       "    <tr>\n",
       "      <th>2</th>\n",
       "      <td>41.95469</td>\n",
       "      <td>-87.800991</td>\n",
       "      <td>86</td>\n",
       "      <td>0.0</td>\n",
       "      <td>10.0</td>\n",
       "      <td>910.0</td>\n",
       "      <td>25</td>\n",
       "      <td>1.0</td>\n",
       "      <td>0.0</td>\n",
       "      <td>0.0</td>\n",
       "      <td>0.0</td>\n",
       "      <td>0.0</td>\n",
       "      <td>0.0</td>\n",
       "    </tr>\n",
       "    <tr>\n",
       "      <th>3</th>\n",
       "      <td>41.95469</td>\n",
       "      <td>-87.800991</td>\n",
       "      <td>86</td>\n",
       "      <td>0.0</td>\n",
       "      <td>10.0</td>\n",
       "      <td>910.0</td>\n",
       "      <td>25</td>\n",
       "      <td>0.0</td>\n",
       "      <td>0.0</td>\n",
       "      <td>0.0</td>\n",
       "      <td>1.0</td>\n",
       "      <td>0.0</td>\n",
       "      <td>0.0</td>\n",
       "    </tr>\n",
       "    <tr>\n",
       "      <th>4</th>\n",
       "      <td>41.95469</td>\n",
       "      <td>-87.800991</td>\n",
       "      <td>86</td>\n",
       "      <td>0.0</td>\n",
       "      <td>10.0</td>\n",
       "      <td>910.0</td>\n",
       "      <td>25</td>\n",
       "      <td>0.0</td>\n",
       "      <td>0.0</td>\n",
       "      <td>0.0</td>\n",
       "      <td>0.0</td>\n",
       "      <td>0.0</td>\n",
       "      <td>1.0</td>\n",
       "    </tr>\n",
       "  </tbody>\n",
       "</table>\n",
       "</div>"
      ],
      "text/plain": [
       "   Latitude  Longitude  Tmax  PrecipTotal  AvgSpeed  length_of_day  TVar  \\\n",
       "0  41.95469 -87.800991    86          0.0      10.0          910.0    25   \n",
       "1  41.95469 -87.800991    86          0.0      10.0          910.0    25   \n",
       "2  41.95469 -87.800991    86          0.0      10.0          910.0    25   \n",
       "3  41.95469 -87.800991    86          0.0      10.0          910.0    25   \n",
       "4  41.95469 -87.800991    86          0.0      10.0          910.0    25   \n",
       "\n",
       "   CULEX PIPIENS  CULEX PIPIENS/RESTUANS  CULEX RESTUANS  CULEX SALINARIUS  \\\n",
       "0            0.0                     1.0             0.0               0.0   \n",
       "1            0.0                     0.0             1.0               0.0   \n",
       "2            1.0                     0.0             0.0               0.0   \n",
       "3            0.0                     0.0             0.0               1.0   \n",
       "4            0.0                     0.0             0.0               0.0   \n",
       "\n",
       "   CULEX TARSALIS  CULEX TERRITANS  \n",
       "0             0.0              0.0  \n",
       "1             0.0              0.0  \n",
       "2             0.0              0.0  \n",
       "3             0.0              0.0  \n",
       "4             0.0              1.0  "
      ]
     },
     "execution_count": 17,
     "metadata": {},
     "output_type": "execute_result"
    }
   ],
   "source": [
    "#yep, they are\n",
    "test.head()"
   ]
  },
  {
   "cell_type": "code",
   "execution_count": 63,
   "metadata": {
    "collapsed": false
   },
   "outputs": [
    {
     "data": {
      "text/plain": [
       "(10506, 13)"
      ]
     },
     "execution_count": 63,
     "metadata": {},
     "output_type": "execute_result"
    }
   ],
   "source": [
    "X.shape"
   ]
  },
  {
   "cell_type": "code",
   "execution_count": 19,
   "metadata": {
    "collapsed": false
   },
   "outputs": [
    {
     "data": {
      "text/plain": [
       "(116293, 13)"
      ]
     },
     "execution_count": 19,
     "metadata": {},
     "output_type": "execute_result"
    }
   ],
   "source": [
    "test.shape"
   ]
  },
  {
   "cell_type": "code",
   "execution_count": 20,
   "metadata": {
    "collapsed": true
   },
   "outputs": [],
   "source": [
    "#let's start importing everything\n",
    "from sklearn.preprocessing import StandardScaler\n",
    "from sklearn import metrics"
   ]
  },
  {
   "cell_type": "code",
   "execution_count": 21,
   "metadata": {
    "collapsed": false
   },
   "outputs": [],
   "source": [
    "#scaling the data to make sure all our data is on the same scale\n",
    "to_scale = X[['Tmax', 'PrecipTotal', 'AvgSpeed', 'length_of_day', 'TVar']]\n",
    "scaled = pd.DataFrame(StandardScaler().fit_transform(to_scale), columns=['Tmax_scaled', 'PrecipTotal_scaled', 'AvgSpeed_scaled', 'length_of_day_scaled', 'TVar_scaled'])\n",
    "X = pd.concat([X, scaled], axis=1)\n",
    "X = X.drop(['Tmax', 'PrecipTotal', 'AvgSpeed', 'length_of_day', 'TVar'], axis=1)\n",
    "# scaled.head()"
   ]
  },
  {
   "cell_type": "code",
   "execution_count": 22,
   "metadata": {
    "collapsed": false
   },
   "outputs": [
    {
     "data": {
      "text/plain": [
       "(10506, 13)"
      ]
     },
     "execution_count": 22,
     "metadata": {},
     "output_type": "execute_result"
    }
   ],
   "source": [
    "X.shape"
   ]
  },
  {
   "cell_type": "code",
   "execution_count": 23,
   "metadata": {
    "collapsed": true
   },
   "outputs": [],
   "source": [
    "to_scale = test[['Tmax', 'PrecipTotal', 'AvgSpeed', 'length_of_day', 'TVar']]\n",
    "scaled = pd.DataFrame(StandardScaler().fit_transform(to_scale), columns=['Tmax_scaled', 'PrecipTotal_scaled', 'AvgSpeed_scaled', 'length_of_day_scaled', 'TVar_scaled'])\n",
    "test = pd.concat([test, scaled], axis=1)\n",
    "test = test.drop(['Tmax', 'PrecipTotal', 'AvgSpeed', 'length_of_day', 'TVar'], axis=1)"
   ]
  },
  {
   "cell_type": "code",
   "execution_count": 24,
   "metadata": {
    "collapsed": false
   },
   "outputs": [
    {
     "name": "stderr",
     "output_type": "stream",
     "text": [
      "/Users/rb/anaconda/lib/python2.7/site-packages/sklearn/cross_validation.py:44: DeprecationWarning: This module was deprecated in version 0.18 in favor of the model_selection module into which all the refactored classes and functions are moved. Also note that the interface of the new CV iterators are different from that of this module. This module will be removed in 0.20.\n",
      "  \"This module will be removed in 0.20.\", DeprecationWarning)\n"
     ]
    }
   ],
   "source": [
    "#IMPORT ALL THE THINGS\n",
    "from sklearn.neighbors import KNeighborsClassifier\n",
    "from sklearn.cross_validation import train_test_split\n",
    "from sklearn.cross_validation import cross_val_score, StratifiedKFold, train_test_split\n",
    "from sklearn.ensemble import RandomForestClassifier, GradientBoostingClassifier\n",
    "from sklearn.svm import SVC\n",
    "from sklearn.linear_model import LogisticRegression\n",
    "from sklearn.metrics import accuracy_score, precision_score, recall_score, confusion_matrix, classification_report, roc_curve, auc"
   ]
  },
  {
   "cell_type": "code",
   "execution_count": 25,
   "metadata": {
    "collapsed": false
   },
   "outputs": [],
   "source": [
    "#gradient boosting\n",
    "from sklearn.ensemble import GradientBoostingClassifier\n",
    "#set our parameters for gradient boosting\n",
    "gbc = GradientBoostingClassifier(max_features='sqrt',n_estimators=1000)"
   ]
  },
  {
   "cell_type": "code",
   "execution_count": 26,
   "metadata": {
    "collapsed": true
   },
   "outputs": [],
   "source": [
    "#establish names for our confusion matrix\n",
    "names = [\"present\", \"not present\", \"predicted present\", \"predicted not present\"]"
   ]
  },
  {
   "cell_type": "code",
   "execution_count": 97,
   "metadata": {
    "collapsed": false
   },
   "outputs": [],
   "source": [
    "from xgboost.sklearn import XGBClassifier\n",
    "xgb = XGBClassifier(max_depth=3, n_estimators=130)\n",
    "#  learning_rate =0.1,\n",
    "#  max_depth=3,\n",
    "#  min_child_weight=1,\n",
    "#  gamma=0,\n",
    "#  subsample=0.8,\n",
    "#  colsample_bytree=0.8,\n",
    "#  objective= 'binary:logistic',\n",
    "#  nthread=4,\n",
    "#  scale_pos_weight=1,\n",
    "#  seed=27)"
   ]
  },
  {
   "cell_type": "code",
   "execution_count": 103,
   "metadata": {
    "collapsed": false,
    "scrolled": true
   },
   "outputs": [
    {
     "name": "stdout",
     "output_type": "stream",
     "text": [
      "0.942024805307\n",
      "   class_0_pp  class_1_pp  pred_class_thresh10\n",
      "0    0.700279    0.299721                    1\n",
      "1    0.821556    0.178444                    1\n",
      "2    0.999854    0.000146                    0\n",
      "3    0.997481    0.002519                    0\n",
      "4    0.978758    0.021242                    0\n",
      "5    0.999699    0.000301                    0\n",
      "6    0.998625    0.001375                    0\n",
      "7    0.999806    0.000194                    0\n",
      "8    0.999991    0.000009                    0\n",
      "9    0.999862    0.000138                    0\n",
      "             predicted present  predicted not present\n",
      "present                    102                     80\n",
      "not present                412                   2873\n",
      "             precision    recall  f1-score   support\n",
      "\n",
      "          0       0.97      0.87      0.92      3285\n",
      "          1       0.20      0.56      0.29       182\n",
      "\n",
      "avg / total       0.93      0.86      0.89      3467\n",
      "\n",
      "(3467, 3)\n",
      "        Latitude  Longitude  CULEX PIPIENS  CULEX PIPIENS/RESTUANS  \\\n",
      "10156  41.912563 -87.668055            1.0                     0.0   \n",
      "2615   41.843811 -87.686763            1.0                     0.0   \n",
      "3900   41.662014 -87.724608            1.0                     0.0   \n",
      "3324   41.759346 -87.745602            0.0                     1.0   \n",
      "1466   41.686398 -87.531635            1.0                     0.0   \n",
      "\n",
      "       CULEX RESTUANS  CULEX SALINARIUS  CULEX TARSALIS  CULEX TERRITANS  \\\n",
      "10156             0.0               0.0             0.0              0.0   \n",
      "2615              0.0               0.0             0.0              0.0   \n",
      "3900              0.0               0.0             0.0              0.0   \n",
      "3324              0.0               0.0             0.0              0.0   \n",
      "1466              0.0               0.0             0.0              0.0   \n",
      "\n",
      "       Tmax_scaled  PrecipTotal_scaled  AvgSpeed_scaled  length_of_day_scaled  \\\n",
      "10156     0.501572           -0.382231        -0.561086             -1.008376   \n",
      "2615     -0.223242            0.125715        -0.131028             -0.467691   \n",
      "3900     -2.639288           -0.128258         0.220838              0.963536   \n",
      "3324      0.259968           -0.382231         0.885473             -1.612672   \n",
      "1466      0.984782           -0.382231        -0.678374              0.343338   \n",
      "\n",
      "       TVar_scaled  \n",
      "10156     1.736123  \n",
      "2615     -1.430676  \n",
      "3900     -1.254743  \n",
      "3324     -0.023210  \n",
      "1466      0.328657  \n"
     ]
    },
    {
     "data": {
      "image/png": "[encoded data removed]",
      "text/plain": [
       "<matplotlib.figure.Figure at 0x119763310>"
      ]
     },
     "metadata": {},
     "output_type": "display_data"
    },
    {
     "data": {
      "text/plain": [
       "('cross val mean score is', 0.94303139335788588)"
      ]
     },
     "execution_count": 103,
     "metadata": {},
     "output_type": "execute_result"
    }
   ],
   "source": [
    "#pull up this monster of a function again to take a look at our train data and generate the model we think is best\n",
    "def evaluate_model(model, X, y, names, test):\n",
    "    X_train, X_test, Y_train, Y_test = train_test_split(X, y, stratify=y, test_size=0.33, random_state=7)\n",
    "    model = model.fit(X_train, Y_train)\n",
    "    Y_pred = model.predict(X_test)\n",
    "    print model.score(X_test, Y_test)\n",
    "    Y_pp = pd.DataFrame(model.predict_proba(X_test), columns=['class_0_pp','class_1_pp'])\n",
    "    Y_pp['pred_class_thresh10'] = [1 if x >= 0.10 else 0 for x in Y_pp.class_1_pp.values]\n",
    "    X_test_df = pd.DataFrame(X_test)\n",
    "    conmat = np.array(confusion_matrix(Y_test, Y_pp.pred_class_thresh10, labels=[1,0]))\n",
    "    confusion = pd.DataFrame(conmat, index=[names[0:2]],\n",
    "                         columns=[names[2:]]) \n",
    "    print(Y_pp.iloc[0:10])\n",
    "    print confusion\n",
    "    print(classification_report(Y_test, Y_pp.pred_class_thresh10))\n",
    "    print Y_pp.shape\n",
    "    print X_test_df.head()\n",
    "    \n",
    "    Y_score = model.predict_proba(X_test)[:,1]\n",
    "\n",
    "    FPR = dict()\n",
    "    TPR = dict()\n",
    "    ROC_AUC = dict()\n",
    "\n",
    "# For class 1, find the area under the curve\n",
    "    FPR[1], TPR[1], _ = roc_curve(Y_test, Y_score)\n",
    "    ROC_AUC[1] = auc(FPR[1], TPR[1])\n",
    "\n",
    "# Plot of a ROC curve for class 1 (has_cancer)\n",
    "    plt.figure(figsize=[11,9])\n",
    "    plt.plot(FPR[1], TPR[1], label='ROC curve (area = %0.2f)' % ROC_AUC[1], linewidth=4)\n",
    "    plt.plot([0, 1], [0, 1], 'k--', linewidth=4)\n",
    "    plt.xlim([0.0, 1.0])\n",
    "    plt.ylim([0.0, 1.05])\n",
    "    plt.xlabel('False Positive Rate', fontsize=18)\n",
    "    plt.ylabel('True Positive Rate', fontsize=18)\n",
    "    plt.title('Receiver operating characteristic for WNV detection', fontsize=18)\n",
    "    plt.legend(loc=\"lower right\")\n",
    "    plt.show()\n",
    "\n",
    "#     auc = metrics.auc(fpr,tpr)\n",
    "#     ggplot(df, aes(x='fpr', ymin=0, ymax='tpr')) +\\\n",
    "#         geom_area(alpha=0.2) +\\\n",
    "#         geom_line(aes(y='tpr')) +\\\n",
    "#         ggtitle(\"ROC Curve w/ AUC=%s\" % str(auc))\n",
    "    return \"cross val mean score is\", cross_val_score(model, X_train, Y_train, cv=5).mean()\n",
    "    \n",
    "    \n",
    "\n",
    "\n",
    "evaluate_model(gbc, X, y, names, test)"
   ]
  },
  {
   "cell_type": "code",
   "execution_count": 104,
   "metadata": {
    "collapsed": false
   },
   "outputs": [
    {
     "name": "stdout",
     "output_type": "stream",
     "text": [
      "0.947505047592\n",
      "   class_0_pp  class_1_pp  pred_class_thresh10\n",
      "0    0.794687    0.205313                    1\n",
      "1    0.869505    0.130495                    1\n",
      "2    0.997553    0.002447                    0\n",
      "3    0.968299    0.031701                    0\n",
      "4    0.939659    0.060341                    0\n",
      "5    0.985826    0.014174                    0\n",
      "6    0.993873    0.006127                    0\n",
      "7    0.999331    0.000669                    0\n",
      "8    0.999537    0.000463                    0\n",
      "9    0.999559    0.000441                    0\n",
      "             predicted present  predicted not present\n",
      "present                    115                     67\n",
      "not present                497                   2788\n",
      "             precision    recall  f1-score   support\n",
      "\n",
      "          0       0.98      0.85      0.91      3285\n",
      "          1       0.19      0.63      0.29       182\n",
      "\n",
      "avg / total       0.94      0.84      0.88      3467\n",
      "\n",
      "(3467, 3)\n",
      "        Latitude  Longitude  CULEX PIPIENS  CULEX PIPIENS/RESTUANS  \\\n",
      "10156  41.912563 -87.668055            1.0                     0.0   \n",
      "2615   41.843811 -87.686763            1.0                     0.0   \n",
      "3900   41.662014 -87.724608            1.0                     0.0   \n",
      "3324   41.759346 -87.745602            0.0                     1.0   \n",
      "1466   41.686398 -87.531635            1.0                     0.0   \n",
      "\n",
      "       CULEX RESTUANS  CULEX SALINARIUS  CULEX TARSALIS  CULEX TERRITANS  \\\n",
      "10156             0.0               0.0             0.0              0.0   \n",
      "2615              0.0               0.0             0.0              0.0   \n",
      "3900              0.0               0.0             0.0              0.0   \n",
      "3324              0.0               0.0             0.0              0.0   \n",
      "1466              0.0               0.0             0.0              0.0   \n",
      "\n",
      "       Tmax_scaled  PrecipTotal_scaled  AvgSpeed_scaled  length_of_day_scaled  \\\n",
      "10156     0.501572           -0.382231        -0.561086             -1.008376   \n",
      "2615     -0.223242            0.125715        -0.131028             -0.467691   \n",
      "3900     -2.639288           -0.128258         0.220838              0.963536   \n",
      "3324      0.259968           -0.382231         0.885473             -1.612672   \n",
      "1466      0.984782           -0.382231        -0.678374              0.343338   \n",
      "\n",
      "       TVar_scaled  \n",
      "10156     1.736123  \n",
      "2615     -1.430676  \n",
      "3900     -1.254743  \n",
      "3324     -0.023210  \n",
      "1466      0.328657  \n"
     ]
    },
    {
     "data": {
      "image/png": "[encoded data removed]",
      "text/plain": [
       "<matplotlib.figure.Figure at 0x119fce990>"
      ]
     },
     "metadata": {},
     "output_type": "display_data"
    },
    {
     "data": {
      "text/plain": [
       "('cross val mean score is', 0.9478621502875233)"
      ]
     },
     "execution_count": 104,
     "metadata": {},
     "output_type": "execute_result"
    }
   ],
   "source": [
    "evaluate_model(xgb, X, y, names, test)"
   ]
  },
  {
   "cell_type": "markdown",
   "metadata": {},
   "source": [
    "### Prep model for submission!"
   ]
  },
  {
   "cell_type": "code",
   "execution_count": 88,
   "metadata": {
    "collapsed": false
   },
   "outputs": [],
   "source": [
    "#fit the model and get the predicted probabilities\n",
    "model = xgb.fit(X, y, eval_metric=\"auc\")\n",
    "y_pred = model.predict_proba(test)"
   ]
  },
  {
   "cell_type": "code",
   "execution_count": 41,
   "metadata": {
    "collapsed": true
   },
   "outputs": [],
   "source": [
    "#also get the predictions in general\n",
    "y_predicted = model.predict(test)"
   ]
  },
  {
   "cell_type": "code",
   "execution_count": null,
   "metadata": {
    "collapsed": false
   },
   "outputs": [],
   "source": [
    "X.head()"
   ]
  },
  {
   "cell_type": "code",
   "execution_count": 89,
   "metadata": {
    "collapsed": false
   },
   "outputs": [
    {
     "data": {
      "text/plain": [
       "array([ 0.15727392,  0.16906947,  0.01179554,  0.01834862,  0.02883355,\n",
       "        0.00917431,  0.        ,  0.02621232,  0.11009175,  0.0576671 ,\n",
       "        0.13630407,  0.20576671,  0.06946265], dtype=float32)"
      ]
     },
     "execution_count": 89,
     "metadata": {},
     "output_type": "execute_result"
    }
   ],
   "source": [
    "#just a tiny peak at what the model thought were the most important features\n",
    "#looks like it's species, trap and length of day\n",
    "model.feature_importances_"
   ]
  },
  {
   "cell_type": "code",
   "execution_count": 84,
   "metadata": {
    "collapsed": false
   },
   "outputs": [],
   "source": [
    "#creating a dataframe for the y_preds\n",
    "y_preds = pd.DataFrame(data=y_pred, columns=[\"WnvNotPresent\", \"WnvPresent\"])"
   ]
  },
  {
   "cell_type": "code",
   "execution_count": 90,
   "metadata": {
    "collapsed": false
   },
   "outputs": [],
   "source": [
    "#create a new dataframe merging all our data\n",
    "df_out = pd.merge(df1, y_preds[['WnvPresent']], how = 'left', left_index=True, right_index=True )\n",
    "df_out = df_out[['Id', 'WnvPresent']]\n",
    "df_out.to_csv('xgb_child.csv', index=False)"
   ]
  },
  {
   "cell_type": "code",
   "execution_count": 43,
   "metadata": {
    "collapsed": true
   },
   "outputs": [],
   "source": [
    "#and one for plotting graphs!\n",
    "df_plot = pd.merge(df1, y_preds[['WnvPresent']], how='left', left_index = True, right_index=True)"
   ]
  },
  {
   "cell_type": "code",
   "execution_count": 44,
   "metadata": {
    "collapsed": false
   },
   "outputs": [],
   "source": [
    "#the one for plot needs very specific columns\n",
    "#but we also want to set a threshold for where we think the city of Chicago should spray\n",
    "#we also wanted the date to be manipulatable \n",
    "df_plot = df_plot[['Longitude', 'Latitude', 'Trap', 'Date', 'WnvPresent']]\n",
    "df_plot[\"y_or_n\"] = [1 if x > 0.3 else 0 for x in df_plot.WnvPresent]\n",
    "df_plot['Date'] = pd.to_datetime(df_plot['Date'])\n",
    "df_plot['year'] = df_plot.Date.dt.year\n",
    "df_plot['month'] = df_plot.Date.dt.month"
   ]
  },
  {
   "cell_type": "code",
   "execution_count": 45,
   "metadata": {
    "collapsed": true
   },
   "outputs": [],
   "source": [
    "#and let's save that\n",
    "df_plot.to_csv('dfplot_xgboost.csv', index=False)"
   ]
  },
  {
   "cell_type": "code",
   "execution_count": 60,
   "metadata": {
    "collapsed": true
   },
   "outputs": [],
   "source": [
    "X.to_csv('train_i_hope.csv', index=False)"
   ]
  },
  {
   "cell_type": "code",
   "execution_count": null,
   "metadata": {
    "collapsed": true
   },
   "outputs": [],
   "source": []
  }
 ],
 "metadata": {
  "anaconda-cloud": {},
  "kernelspec": {
   "display_name": "Python [conda root]",
   "language": "python",
   "name": "conda-root-py"
  },
  "language_info": {
   "codemirror_mode": {
    "name": "ipython",
    "version": 2
   },
   "file_extension": ".py",
   "mimetype": "text/x-python",
   "name": "python",
   "nbconvert_exporter": "python",
   "pygments_lexer": "ipython2",
   "version": "2.7.13"
  }
 },
 "nbformat": 4,
 "nbformat_minor": 1
}
